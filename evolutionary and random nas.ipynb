{
 "cells": [
  {
   "cell_type": "markdown",
   "id": "007e78bc-e0c8-430b-9939-b86959498171",
   "metadata": {},
   "source": [
    "EVOLUTIONARY"
   ]
  },
  {
   "cell_type": "code",
   "execution_count": 2,
   "id": "3fbbed91-4778-4571-827c-36d8bf45db9a",
   "metadata": {},
   "outputs": [
    {
     "data": {
      "text/plain": [
       "{'tensorflow': '2.16.1',\n",
       " 'numpy': '1.26.4',\n",
       " 'scikit-learn': '1.1.2',\n",
       " 'keras': '3.1.1'}"
      ]
     },
     "execution_count": 2,
     "metadata": {},
     "output_type": "execute_result"
    }
   ],
   "source": [
    "import tensorflow as tf\n",
    "import numpy as np\n",
    "import sklearn\n",
    "import keras\n",
    "\n",
    "versions = {\n",
    "    \"tensorflow\": tf.__version__,\n",
    "    \"numpy\": np.__version__,\n",
    "    \"scikit-learn\": sklearn.__version__,\n",
    "    \"keras\": keras.__version__,\n",
    "}\n",
    "\n",
    "versions"
   ]
  },
  {
   "cell_type": "code",
   "execution_count": 1,
   "id": "0abb604e-1fd2-4d81-ba7d-b28007e17c76",
   "metadata": {},
   "outputs": [
    {
     "name": "stdout",
     "output_type": "stream",
     "text": [
      "Initial Population Architectures and Accuracies:\n"
     ]
    },
    {
     "name": "stderr",
     "output_type": "stream",
     "text": [
      "C:\\Users\\manal\\AppData\\Local\\Programs\\Python\\Python39\\lib\\site-packages\\keras\\src\\layers\\reshaping\\reshape.py:39: UserWarning: Do not pass an `input_shape`/`input_dim` argument to a layer. When using Sequential models, prefer using an `Input(shape)` object as the first layer in the model instead.\n",
      "  super().__init__(**kwargs)\n"
     ]
    },
    {
     "name": "stdout",
     "output_type": "stream",
     "text": [
      "Architecture: {'num_layers': 3, 'layers': [32, 32, 128], 'activation': 'relu', 'optimizer': 'adam', 'batch_size': 64, 'epochs': 5, 'layer_type': 'conv'}, Accuracy: 96.95%\n"
     ]
    },
    {
     "name": "stderr",
     "output_type": "stream",
     "text": [
      "C:\\Users\\manal\\AppData\\Local\\Programs\\Python\\Python39\\lib\\site-packages\\keras\\src\\layers\\rnn\\rnn.py:204: UserWarning: Do not pass an `input_shape`/`input_dim` argument to a layer. When using Sequential models, prefer using an `Input(shape)` object as the first layer in the model instead.\n",
      "  super().__init__(**kwargs)\n"
     ]
    },
    {
     "name": "stdout",
     "output_type": "stream",
     "text": [
      "Architecture: {'num_layers': 4, 'layers': [32, 32, 32], 'activation': 'relu', 'optimizer': 'adam', 'batch_size': 64, 'epochs': 5, 'layer_type': 'lstm'}, Accuracy: 80.27%\n",
      "Architecture: {'num_layers': 2, 'layers': [32, 128, 128, 64], 'activation': 'tanh', 'optimizer': 'adam', 'batch_size': 32, 'epochs': 5, 'layer_type': 'lstm'}, Accuracy: 92.30%\n",
      "Architecture: {'num_layers': 2, 'layers': [64, 64, 128], 'activation': 'relu', 'optimizer': 'adam', 'batch_size': 64, 'epochs': 5, 'layer_type': 'conv'}, Accuracy: 95.94%\n",
      "\n",
      "Initial Parents for Generation 1:\n",
      "Architecture: {'num_layers': 3, 'layers': [32, 32, 128], 'activation': 'relu', 'optimizer': 'adam', 'batch_size': 64, 'epochs': 5, 'layer_type': 'conv'}\n",
      "Architecture: {'num_layers': 2, 'layers': [32, 128, 128, 64], 'activation': 'tanh', 'optimizer': 'adam', 'batch_size': 32, 'epochs': 5, 'layer_type': 'lstm'}\n",
      "\n",
      "Generation 1/4\n",
      "Current Generation Architectures and Accuracies:\n",
      "Architecture: {'num_layers': 3, 'layers': [32, 32, 128], 'activation': 'relu', 'optimizer': 'adam', 'batch_size': 64, 'epochs': 5, 'layer_type': 'conv'}, Accuracy: 96.78%\n",
      "Architecture: {'num_layers': 4, 'layers': [32, 32, 32], 'activation': 'relu', 'optimizer': 'adam', 'batch_size': 64, 'epochs': 5, 'layer_type': 'lstm'}, Accuracy: 78.94%\n",
      "Architecture: {'num_layers': 2, 'layers': [32, 128, 128, 64], 'activation': 'tanh', 'optimizer': 'adam', 'batch_size': 32, 'epochs': 5, 'layer_type': 'lstm'}, Accuracy: 92.25%\n",
      "Architecture: {'num_layers': 2, 'layers': [64, 64, 128], 'activation': 'relu', 'optimizer': 'adam', 'batch_size': 64, 'epochs': 5, 'layer_type': 'conv'}, Accuracy: 97.29%\n",
      "\n",
      "Generation 2/4\n",
      "Current Generation Architectures and Accuracies:\n",
      "Architecture: {'num_layers': 4, 'layers': [128, 32, 32], 'activation': 'tanh', 'optimizer': 'adam', 'batch_size': 64, 'epochs': 5, 'layer_type': 'lstm'}, Accuracy: 89.90%\n",
      "Architecture: {'num_layers': 3, 'layers': [32, 32, 128], 'activation': 'relu', 'optimizer': 'adam', 'batch_size': 64, 'epochs': 5, 'layer_type': 'conv'}, Accuracy: 97.20%\n",
      "Architecture: {'num_layers': 3, 'layers': [32, 32, 128], 'activation': 'relu', 'optimizer': 'adam', 'batch_size': 64, 'epochs': 5, 'layer_type': 'lstm'}, Accuracy: 83.03%\n",
      "Architecture: {'num_layers': 4, 'layers': [128, 32, 32], 'activation': 'relu', 'optimizer': 'adam', 'batch_size': 64, 'epochs': 5, 'layer_type': 'lstm'}, Accuracy: 88.31%\n",
      "\n",
      "Generation 3/4\n",
      "Current Generation Architectures and Accuracies:\n",
      "Architecture: {'num_layers': 4, 'layers': [32, 32, 128], 'activation': 'tanh', 'optimizer': 'adam', 'batch_size': 32, 'epochs': 5, 'layer_type': 'lstm'}, Accuracy: 91.88%\n",
      "Architecture: {'num_layers': 4, 'layers': [128, 32, 32], 'activation': 'relu', 'optimizer': 'adam', 'batch_size': 64, 'epochs': 5, 'layer_type': 'lstm'}, Accuracy: 86.35%\n",
      "Architecture: {'num_layers': 3, 'layers': [32, 32, 128], 'activation': 'relu', 'optimizer': 'adam', 'batch_size': 64, 'epochs': 5, 'layer_type': 'conv'}, Accuracy: 96.12%\n",
      "Architecture: {'num_layers': 4, 'layers': [32, 32, 128], 'activation': 'relu', 'optimizer': 'adam', 'batch_size': 64, 'epochs': 5, 'layer_type': 'conv'}, Accuracy: 96.62%\n",
      "\n",
      "Generation 4/4\n"
     ]
    },
    {
     "name": "stderr",
     "output_type": "stream",
     "text": [
      "C:\\Users\\manal\\AppData\\Local\\Programs\\Python\\Python39\\lib\\site-packages\\keras\\src\\layers\\reshaping\\flatten.py:37: UserWarning: Do not pass an `input_shape`/`input_dim` argument to a layer. When using Sequential models, prefer using an `Input(shape)` object as the first layer in the model instead.\n",
      "  super().__init__(**kwargs)\n"
     ]
    },
    {
     "name": "stdout",
     "output_type": "stream",
     "text": [
      "Current Generation Architectures and Accuracies:\n",
      "Architecture: {'num_layers': 4, 'layers': [128, 32, 32], 'activation': 'relu', 'optimizer': 'adam', 'batch_size': 64, 'epochs': 5, 'layer_type': 'lstm'}, Accuracy: 87.34%\n",
      "Architecture: {'num_layers': 4, 'layers': [128, 32, 32], 'activation': 'relu', 'optimizer': 'adam', 'batch_size': 64, 'epochs': 5, 'layer_type': 'lstm'}, Accuracy: 86.18%\n",
      "Architecture: {'num_layers': 4, 'layers': [32, 32, 128], 'activation': 'relu', 'optimizer': 'adam', 'batch_size': 64, 'epochs': 10, 'layer_type': 'dense'}, Accuracy: 92.55%\n",
      "Architecture: {'num_layers': 3, 'layers': [32, 32, 128], 'activation': 'relu', 'optimizer': 'adam', 'batch_size': 64, 'epochs': 5, 'layer_type': 'conv'}, Accuracy: 97.17%\n",
      "\n",
      "Final Model Architecture: {'num_layers': 4, 'layers': [32, 32, 128], 'activation': 'relu', 'optimizer': 'adam', 'batch_size': 64, 'epochs': 10, 'layer_type': 'dense'}\n",
      "Final Model Accuracy on Test Set: 10.23%\n"
     ]
    }
   ],
   "source": [
    "import random\n",
    "import numpy as np\n",
    "from keras.models import Sequential\n",
    "from keras.layers import Dense, Conv2D, MaxPooling2D, Flatten, LSTM, Reshape\n",
    "from keras.optimizers import Adam, SGD\n",
    "from keras.datasets import mnist\n",
    "from sklearn.model_selection import train_test_split\n",
    "from keras.utils import to_categorical\n",
    "\n",
    "# Load and preprocess dataset\n",
    "(x_train, y_train), (x_test, y_test) = mnist.load_data()  #loading mnist dataset 28X28 images of handwritten 0 to 9\n",
    "x_train = x_train.astype('float32') / 255   #scaled pixels from 0 to 1\n",
    "x_test = x_test.astype('float32') / 255\n",
    "\n",
    "x_train, _, y_train, _ = train_test_split(x_train, y_train, train_size=5000)   # _ to excluse the remaining data as we only consider 5k. \n",
    "                                                                                # It holds rest of not needed data\n",
    "y_train = to_categorical(y_train, 10)  # one hot encode, each label is converted into a vector of size 10\n",
    "y_test = to_categorical(y_test, 10)   #\n",
    "\n",
    "def build_model(params):\n",
    "    model = Sequential()   # linear model\n",
    "    if params['layer_type'] == 'conv':\n",
    "        model.add(Reshape((28, 28, 1), input_shape=(28, 28)))\n",
    "        model.add(Conv2D(params['layers'][0], (3, 3), activation=params['activation'], padding='same'))\n",
    "        model.add(MaxPooling2D(pool_size=(2, 2)))    #to reduce the spatial dimensions of the data\n",
    "        for units in params['layers'][1:]:\n",
    "            model.add(Conv2D(units, (3, 3), activation=params['activation'], padding='same'))\n",
    "            model.add(MaxPooling2D(pool_size=(2, 2)))\n",
    "        model.add(Flatten())\n",
    "    elif params['layer_type'] == 'lstm':\n",
    "        model.add(LSTM(params['layers'][0], activation=params['activation'], input_shape=(28, 28), return_sequences=True))\n",
    "        for units in params['layers'][1:-1]:\n",
    "            model.add(LSTM(units, activation=params['activation'], return_sequences=True))\n",
    "        model.add(LSTM(params['layers'][-1], activation=params['activation']))\n",
    "    else:  # Dense model\n",
    "        model.add(Flatten(input_shape=(28, 28)))\n",
    "        for units in params['layers']:\n",
    "            model.add(Dense(units, activation=params['activation']))\n",
    "    model.add(Dense(10, activation='softmax'))\n",
    "    optimizer = Adam() if params['optimizer'] == 'adam' else SGD()\n",
    "    model.compile(optimizer=optimizer, loss='categorical_crossentropy', metrics=['accuracy'])\n",
    "    return model\n",
    "\n",
    "def create_population(pop_size):\n",
    "    population = []\n",
    "    for _ in range(pop_size):\n",
    "        params = {\n",
    "            'num_layers': random.choice([2, 3, 4]),\n",
    "            'layers': [random.choice([32, 64, 128]) for _ in range(random.choice([2, 3, 4]))],\n",
    "            'activation': random.choice(['relu', 'tanh']),\n",
    "            'optimizer': random.choice(['adam', 'sgd']),\n",
    "            'batch_size': random.choice([32, 64]),\n",
    "            'epochs': random.choice([5, 10]),\n",
    "            'layer_type': random.choice(['dense', 'lstm', 'conv'])\n",
    "        }\n",
    "        population.append(params)\n",
    "    return population\n",
    "\n",
    "def fitness(model, x_train, y_train, x_test, y_test, batch_size, epochs):\n",
    "    model.fit(x_train, y_train, epochs=epochs, batch_size=batch_size, verbose=0)\n",
    "    _, accuracy = model.evaluate(x_test, y_test, verbose=0)\n",
    "    return accuracy\n",
    "\n",
    "def selection(population, fitness_scores):\n",
    "    selected = np.random.choice(len(population), size=len(population)//2, p=fitness_scores/fitness_scores.sum()) # fitness_scores/fitness_scores.sum() normalizes the fitness scores to sum to 1 \n",
    "    return [population[i] for i in selected]\n",
    "\n",
    "def crossover(parent1, parent2):\n",
    "    child = parent1.copy()\n",
    "    for key in parent1.keys():\n",
    "        if random.random() < 0.5:  #there's a 50% chance of choosing the corresponding value from parent2 rather than parent1\n",
    "            child[key] = parent2[key]\n",
    "    return child\n",
    "\n",
    "def mutation(params, mutation_rate):\n",
    "    if random.random() < mutation_rate:\n",
    "        params['layers'][random.randint(0, len(params['layers'])-1)] = random.choice([32, 64, 128])\n",
    "        params['activation'] = random.choice(['relu', 'tanh'])\n",
    "        params['optimizer'] = random.choice(['adam', 'sgd'])\n",
    "        params['batch_size'] = random.choice([32, 64])\n",
    "        params['epochs'] = random.choice([5, 10])\n",
    "        params['layer_type'] = random.choice(['dense', 'lstm', 'conv'])\n",
    "    return params\n",
    "\n",
    "# Run evolutionary algorithm\n",
    "population_size = 4 \n",
    "mutation_rate = 0.1 \n",
    "generations = 4\n",
    "\n",
    "population = create_population(population_size)\n",
    "\n",
    "# Track initial population and their accuracies\n",
    "print(\"Initial Population Architectures and Accuracies:\")\n",
    "initial_scores = []\n",
    "for params in population:\n",
    "    model = build_model(params)\n",
    "    score = fitness(model, x_train, y_train, x_test, y_test, params['batch_size'], params['epochs'])\n",
    "    initial_scores.append(score)\n",
    "    print(f\"Architecture: {params}, Accuracy: {score * 100:.2f}%\")\n",
    "\n",
    "# Select the initial parents explicitly and print them\n",
    "initial_parents = selection(population, np.array(initial_scores))\n",
    "print(\"\\nInitial Parents for Generation 1:\")\n",
    "for parent in initial_parents:\n",
    "    print(f\"Architecture: {parent}\")\n",
    "\n",
    "# Evolutionary process\n",
    "for generation in range(generations):\n",
    "    print(f\"\\nGeneration {generation+1}/{generations}\")\n",
    "    fitness_scores = []\n",
    "    for params in population:\n",
    "        model = build_model(params)\n",
    "        score = fitness(model, x_train, y_train, x_test, y_test, params['batch_size'], params['epochs'])\n",
    "        fitness_scores.append(score)\n",
    "    fitness_scores = np.array(fitness_scores)\n",
    "    \n",
    "    print(\"Current Generation Architectures and Accuracies:\")\n",
    "    for i, (params, score) in enumerate(zip(population, fitness_scores)):\n",
    "        print(f\"Architecture: {params}, Accuracy: {score * 100:.2f}%\")\n",
    "    \n",
    "    selected_parents = selection(population, fitness_scores)\n",
    "    next_generation = []\n",
    "    \n",
    "    while len(next_generation) < population_size:\n",
    "        parent1, parent2 = random.sample(selected_parents, 2)\n",
    "        child = crossover(parent1, parent2)\n",
    "        child = mutation(child, mutation_rate)\n",
    "        next_generation.append(child)\n",
    "    \n",
    "    population = next_generation\n",
    "\n",
    "# Final model\n",
    "best_model_params = population[np.argmax(fitness_scores)]\n",
    "best_model = build_model(best_model_params)\n",
    "final_accuracy = best_model.evaluate(x_test, y_test, verbose=0)[1]\n",
    "print(f\"\\nFinal Model Architecture: {best_model_params}\")\n",
    "print(f\"Final Model Accuracy on Test Set: {final_accuracy * 100:.2f}%\")\n"
   ]
  },
  {
   "cell_type": "code",
   "execution_count": null,
   "id": "af8f6a08-d74b-4614-8f50-c0c242d619fa",
   "metadata": {},
   "outputs": [],
   "source": []
  },
  {
   "cell_type": "code",
   "execution_count": null,
   "id": "440666dc-0139-4ef1-b457-d6bdfa2d3bc9",
   "metadata": {},
   "outputs": [],
   "source": []
  },
  {
   "cell_type": "code",
   "execution_count": null,
   "id": "4a11ea9e-b44d-4efe-a416-f98118c21eb1",
   "metadata": {},
   "outputs": [],
   "source": []
  },
  {
   "cell_type": "markdown",
   "id": "48008bb0-cf75-4c6a-af28-510fa579deff",
   "metadata": {},
   "source": [
    "RANDOM"
   ]
  },
  {
   "cell_type": "code",
   "execution_count": 1,
   "id": "950f11a0-5232-47f0-b1f8-dd14b15b2ab9",
   "metadata": {},
   "outputs": [
    {
     "name": "stdout",
     "output_type": "stream",
     "text": [
      "Evaluating Model 1 with params: {'num_layers': 2, 'units': 32, 'activation': 'tanh', 'optimizer': 'sgd', 'batch_size': 64, 'epochs': 5, 'layer_type': 'conv'}\n"
     ]
    },
    {
     "name": "stderr",
     "output_type": "stream",
     "text": [
      "C:\\Users\\manal\\AppData\\Local\\Programs\\Python\\Python39\\lib\\site-packages\\keras\\src\\layers\\reshaping\\reshape.py:39: UserWarning: Do not pass an `input_shape`/`input_dim` argument to a layer. When using Sequential models, prefer using an `Input(shape)` object as the first layer in the model instead.\n",
      "  super().__init__(**kwargs)\n"
     ]
    },
    {
     "name": "stdout",
     "output_type": "stream",
     "text": [
      "Validation Accuracy: 0.9473000168800354\n",
      "Evaluating Model 2 with params: {'num_layers': 2, 'units': 64, 'activation': 'tanh', 'optimizer': 'sgd', 'batch_size': 64, 'epochs': 5, 'layer_type': 'dense'}\n"
     ]
    },
    {
     "name": "stderr",
     "output_type": "stream",
     "text": [
      "C:\\Users\\manal\\AppData\\Local\\Programs\\Python\\Python39\\lib\\site-packages\\keras\\src\\layers\\reshaping\\flatten.py:37: UserWarning: Do not pass an `input_shape`/`input_dim` argument to a layer. When using Sequential models, prefer using an `Input(shape)` object as the first layer in the model instead.\n",
      "  super().__init__(**kwargs)\n"
     ]
    },
    {
     "name": "stdout",
     "output_type": "stream",
     "text": [
      "Validation Accuracy: 0.9254000186920166\n",
      "Evaluating Model 3 with params: {'num_layers': 4, 'units': 64, 'activation': 'tanh', 'optimizer': 'sgd', 'batch_size': 32, 'epochs': 5, 'layer_type': 'dense'}\n",
      "Validation Accuracy: 0.9527000188827515\n",
      "Evaluating Model 4 with params: {'num_layers': 2, 'units': 32, 'activation': 'relu', 'optimizer': 'adam', 'batch_size': 32, 'epochs': 5, 'layer_type': 'dense'}\n",
      "Validation Accuracy: 0.9678000211715698\n",
      "Evaluating Model 5 with params: {'num_layers': 4, 'units': 128, 'activation': 'tanh', 'optimizer': 'adam', 'batch_size': 64, 'epochs': 5, 'layer_type': 'dense'}\n",
      "Validation Accuracy: 0.972000002861023\n",
      "Best Accuracy: 0.972000002861023\n",
      "Best Params: {'num_layers': 4, 'units': 128, 'activation': 'tanh', 'optimizer': 'adam', 'batch_size': 64, 'epochs': 5, 'layer_type': 'dense'}\n"
     ]
    }
   ],
   "source": [
    "import numpy as np\n",
    "import tensorflow as tf\n",
    "from tensorflow import keras\n",
    "from tensorflow.keras.datasets import mnist\n",
    "import random\n",
    "\n",
    "# Load dataset\n",
    "(x_train, y_train), (x_test, y_test) = mnist.load_data()\n",
    "x_train, x_test = x_train / 255.0, x_test / 255.0\n",
    "\n",
    "# One-hot encode labels\n",
    "y_train = keras.utils.to_categorical(y_train, 10)\n",
    "y_test = keras.utils.to_categorical(y_test, 10)\n",
    "\n",
    "# Hyperparameter search space\n",
    "param_grid = {\n",
    "    'num_layers': [2, 3, 4],\n",
    "    'units': [32, 64, 128],\n",
    "    'activation': ['relu', 'tanh'],\n",
    "    'optimizer': ['adam', 'sgd'],\n",
    "    'batch_size': [32, 64],\n",
    "    'epochs': [5, 10],\n",
    "    'layer_type': ['dense', 'lstm', 'conv']\n",
    "}\n",
    "\n",
    "# Function to randomly sample hyperparameters from the grid\n",
    "def random_sample(param_grid):\n",
    "    params = {key: random.choice(value) for key, value in param_grid.items()}\n",
    "    return params\n",
    "\n",
    "# Create a model with varying layers (Dense, LSTM, Conv)\n",
    "def create_model(num_layers, units, activation, optimizer, layer_type):\n",
    "    model = keras.Sequential()\n",
    "\n",
    "    if layer_type == 'conv':\n",
    "        # Ensure input shape includes the channel dimension\n",
    "        model.add(keras.layers.Reshape((28, 28, 1), input_shape=(28, 28)))  \n",
    "        \n",
    "        for _ in range(num_layers):\n",
    "            model.add(keras.layers.Conv2D(units, kernel_size=(3, 3), activation=activation, padding='same'))\n",
    "            model.add(keras.layers.MaxPooling2D(pool_size=(2, 2)))\n",
    "\n",
    "        model.add(keras.layers.Flatten())  # Flatten before dense layers\n",
    "    elif layer_type == 'lstm':\n",
    "        model.add(keras.layers.Reshape((28, 28), input_shape=(28, 28)))  # Ensure correct shape for LSTM\n",
    "        for _ in range(num_layers):\n",
    "            model.add(keras.layers.LSTM(units, activation=activation, return_sequences=True))\n",
    "        model.add(keras.layers.LSTM(units, activation=activation))  # Final LSTM layer without return_sequences\n",
    "    elif layer_type == 'dense':\n",
    "        model.add(keras.layers.Flatten(input_shape=(28, 28)))  # Flatten for fully connected layers\n",
    "        for _ in range(num_layers):\n",
    "            model.add(keras.layers.Dense(units, activation=activation))\n",
    "\n",
    "    model.add(keras.layers.Dense(10, activation='softmax'))  # Output layer for classification\n",
    "\n",
    "    model.compile(optimizer=optimizer, loss='categorical_crossentropy', metrics=['accuracy'])\n",
    "    return model\n",
    "\n",
    "# Random search\n",
    "best_accuracy = 0\n",
    "best_model = None\n",
    "best_params = None\n",
    "model_counter = 1  # Initialize model counter\n",
    "n_iter = 5  # Number of random samples\n",
    "\n",
    "for _ in range(n_iter):  # Loop for random search iterations\n",
    "    params = random_sample(param_grid)\n",
    "    print(f\"Evaluating Model {model_counter} with params: {params}\")\n",
    "    \n",
    "    model = create_model(params['num_layers'], params['units'], params['activation'], params['optimizer'], params['layer_type'])\n",
    "    history = model.fit(x_train, y_train, epochs=params['epochs'], batch_size=params['batch_size'], validation_data=(x_test, y_test), verbose=0)\n",
    "\n",
    "    val_accuracy = history.history['val_accuracy'][-1]\n",
    "    print(f\"Validation Accuracy: {val_accuracy}\")\n",
    "    \n",
    "    if val_accuracy > best_accuracy:\n",
    "        best_accuracy = val_accuracy\n",
    "        best_model = model\n",
    "        best_params = params\n",
    "\n",
    "    model_counter += 1  # Increment model counter\n",
    "\n",
    "# Output the best model and parameters\n",
    "print(f\"Best Accuracy: {best_accuracy}\")\n",
    "print(f\"Best Params: {best_params}\")\n"
   ]
  },
  {
   "cell_type": "code",
   "execution_count": null,
   "id": "f35ff2e0-a674-47a1-857d-c09c215583ca",
   "metadata": {},
   "outputs": [],
   "source": []
  },
  {
   "cell_type": "code",
   "execution_count": null,
   "id": "8c498e4e-42ce-496d-bac6-e6545f3001a7",
   "metadata": {},
   "outputs": [],
   "source": []
  },
  {
   "cell_type": "code",
   "execution_count": null,
   "id": "e86287b5-614b-4756-804d-17e12c91b25e",
   "metadata": {},
   "outputs": [],
   "source": []
  }
 ],
 "metadata": {
  "kernelspec": {
   "display_name": "Python 3 (ipykernel)",
   "language": "python",
   "name": "python3"
  },
  "language_info": {
   "codemirror_mode": {
    "name": "ipython",
    "version": 3
   },
   "file_extension": ".py",
   "mimetype": "text/x-python",
   "name": "python",
   "nbconvert_exporter": "python",
   "pygments_lexer": "ipython3",
   "version": "3.9.7"
  }
 },
 "nbformat": 4,
 "nbformat_minor": 5
}
